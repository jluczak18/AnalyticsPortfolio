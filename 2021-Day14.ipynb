{
 "cells": [
  {
   "cell_type": "code",
   "execution_count": 1,
   "id": "ce0ed020",
   "metadata": {},
   "outputs": [],
   "source": [
    "import pandas as pd\n",
    "import numpy as np\n",
    "from collections import Counter"
   ]
  },
  {
   "cell_type": "code",
   "execution_count": 2,
   "id": "3c3cb393",
   "metadata": {},
   "outputs": [],
   "source": [
    "test_string = 'NNCB'\n",
    "\n",
    "test_df = pd.DataFrame(index=range(0,15), columns=['Input', 'Polymer'])"
   ]
  },
  {
   "cell_type": "code",
   "execution_count": 3,
   "id": "c8b76423",
   "metadata": {},
   "outputs": [],
   "source": [
    "test_dict = {'CH': 'B', 'HH': 'N', 'CB': 'H',\n",
    "            'NH': 'C', 'HB': 'C', 'HC': 'B', 'HN': 'C',\n",
    "            'NN': 'C', 'BH': 'H', 'NC': 'B', 'NB': 'B',\n",
    "            'BN': 'B', 'BB': 'N', 'BC': 'B', 'CC': 'N',\n",
    "            'CN': 'C'}\n",
    "\n",
    "# CH -> B\n",
    "# HH -> N\n",
    "# CB -> H\n",
    "# NH -> C\n",
    "# HB -> C\n",
    "# HC -> B\n",
    "# HN -> C\n",
    "# NN -> C\n",
    "# BH -> H\n",
    "# NC -> B\n",
    "# NB -> B\n",
    "# BN -> B\n",
    "# BB -> N\n",
    "# BC -> B\n",
    "# CC -> N\n",
    "# CN -> C"
   ]
  },
  {
   "cell_type": "code",
   "execution_count": 4,
   "id": "ca44f63e",
   "metadata": {},
   "outputs": [
    {
     "data": {
      "text/plain": [
       "dict_keys(['CH', 'HH', 'CB', 'NH', 'HB', 'HC', 'HN', 'NN', 'BH', 'NC', 'NB', 'BN', 'BB', 'BC', 'CC', 'CN'])"
      ]
     },
     "execution_count": 4,
     "metadata": {},
     "output_type": "execute_result"
    }
   ],
   "source": [
    "test_dict.keys()"
   ]
  },
  {
   "cell_type": "code",
   "execution_count": 5,
   "id": "74203ab1",
   "metadata": {},
   "outputs": [],
   "source": [
    "def polymer_step(text, new_dict):\n",
    "    i=0\n",
    "    add_val = ''\n",
    "    resulting_string = ''\n",
    "    while i < len(text)-1:\n",
    "        if i < len(text)-2:\n",
    "            new_string = text[i:i+2]\n",
    "            add_val = new_dict.get(new_string)\n",
    "            string_add = new_string[0]+add_val\n",
    "            resulting_string+= string_add\n",
    "        if i == len(text)-2:\n",
    "            new_string = text[i:i+2]\n",
    "            add_val = new_dict.get(new_string)\n",
    "            string_add = new_string[0]+add_val+new_string[1]\n",
    "            resulting_string+= string_add\n",
    "        i+=1\n",
    "    return resulting_string\n",
    "\n",
    "def repeat_steps(number, text, new_dict):\n",
    "    #creates a list holding original string\n",
    "    step_list = list([polymer_step(text, new_dict)])\n",
    "    x = 0\n",
    "    new_list = list()\n",
    "    #starts by grabbing only value in list (original input)\n",
    "    #then appends the polymer_step function and adds it to the end of the\n",
    "    #list. Then we re-run using new value which is added to end of list\n",
    "    while x < number-1:\n",
    "        t = polymer_step(step_list[len(step_list)-1], new_dict)\n",
    "        step_list.append(t)\n",
    "#         print(x)\n",
    "        x+=1\n",
    "    return(step_list[len(step_list)-1])\n",
    "\n",
    "def max_count(x):\n",
    "    #gives us the letter that has most occurences and count\n",
    "    max_val = 0\n",
    "    high_char = ''\n",
    "    final_list = list()\n",
    "    for i in x:\n",
    "        counter = Counter(x)\n",
    "        if counter[i] > max_val:\n",
    "            max_val = counter[i]\n",
    "            high_char = i\n",
    "    final_list.extend([high_char, max_val])\n",
    "    #returns a dictionary with character and count\n",
    "    return final_list\n",
    "    \n",
    "def min_count(y):\n",
    "    min_val = 10000\n",
    "    low_char = ''\n",
    "    final_list = list()\n",
    "    for i in y:\n",
    "        counter = Counter(y)\n",
    "        if counter[i] < min_val:\n",
    "            min_val = counter[i]\n",
    "            low_char = i\n",
    "    final_list.extend([low_char, min_val])\n",
    "    #returns a dictionary with character and count\n",
    "    return final_list\n",
    "\n",
    "def part1(number, text, new_dict):\n",
    "    z = repeat_steps(number, text, new_dict)\n",
    "    q = max_count(z)\n",
    "    t = min_count(z)\n",
    "    solution = q[1]-t[1]\n",
    "    return solution\n",
    "    "
   ]
  },
  {
   "cell_type": "code",
   "execution_count": 6,
   "id": "d51dfc1d",
   "metadata": {},
   "outputs": [
    {
     "name": "stdout",
     "output_type": "stream",
     "text": [
      "0\n",
      "1\n",
      "2\n",
      "3\n",
      "4\n",
      "5\n",
      "6\n",
      "7\n",
      "8\n"
     ]
    },
    {
     "data": {
      "text/plain": [
       "1588"
      ]
     },
     "execution_count": 6,
     "metadata": {},
     "output_type": "execute_result"
    }
   ],
   "source": [
    "part1(10,test_string, test_dict)"
   ]
  },
  {
   "cell_type": "code",
   "execution_count": 7,
   "id": "619daebf",
   "metadata": {},
   "outputs": [],
   "source": [
    "#matches test set, now time to bring in actual input\n",
    "with open('day14.txt') as f:\n",
    "    lines = f.readlines()\n",
    "\n",
    "input_string = lines[0].split('\\n')[0]\n",
    "\n",
    "i = 2\n",
    "value_dict = dict()\n",
    "while i < len(lines):\n",
    "    #create a dictionary that stores values off of the text file\n",
    "    key = lines[i].split(' -> ')[0]\n",
    "    value = lines[i].split(' -> ')[1].split('\\n')[0]\n",
    "    pair = {key: value}\n",
    "    value_dict.update(pair)\n",
    "    i+=1\n",
    "    "
   ]
  },
  {
   "cell_type": "code",
   "execution_count": 8,
   "id": "6aae597e",
   "metadata": {},
   "outputs": [
    {
     "name": "stdout",
     "output_type": "stream",
     "text": [
      "0\n",
      "1\n",
      "2\n",
      "3\n",
      "4\n",
      "5\n",
      "6\n",
      "7\n",
      "8\n"
     ]
    },
    {
     "data": {
      "text/plain": [
       "2988"
      ]
     },
     "execution_count": 8,
     "metadata": {},
     "output_type": "execute_result"
    }
   ],
   "source": [
    "#now we just call our same function from earlier on new data\n",
    "part1(10, input_string, value_dict)"
   ]
  },
  {
   "cell_type": "markdown",
   "id": "5a4bdc25",
   "metadata": {},
   "source": [
    "The final answer for part one is 2,988"
   ]
  },
  {
   "cell_type": "code",
   "execution_count": null,
   "id": "cf74e642",
   "metadata": {},
   "outputs": [
    {
     "name": "stdout",
     "output_type": "stream",
     "text": [
      "0\n",
      "1\n",
      "2\n",
      "3\n",
      "4\n",
      "5\n",
      "6\n",
      "7\n",
      "8\n",
      "9\n",
      "10\n",
      "11\n",
      "12\n",
      "13\n",
      "14\n",
      "15\n",
      "16\n",
      "17\n",
      "18\n",
      "19\n",
      "20\n",
      "21\n",
      "22\n",
      "23\n"
     ]
    }
   ],
   "source": [
    "#For part 2, need to do the same thing, but 40 steps\n",
    "\n",
    "part1(40, input_string, value_dict)"
   ]
  },
  {
   "cell_type": "code",
   "execution_count": null,
   "id": "7cabc075",
   "metadata": {},
   "outputs": [],
   "source": []
  },
  {
   "cell_type": "code",
   "execution_count": null,
   "id": "28754c3d",
   "metadata": {},
   "outputs": [],
   "source": []
  }
 ],
 "metadata": {
  "kernelspec": {
   "display_name": "Python 3 (ipykernel)",
   "language": "python",
   "name": "python3"
  },
  "language_info": {
   "codemirror_mode": {
    "name": "ipython",
    "version": 3
   },
   "file_extension": ".py",
   "mimetype": "text/x-python",
   "name": "python",
   "nbconvert_exporter": "python",
   "pygments_lexer": "ipython3",
   "version": "3.7.9"
  }
 },
 "nbformat": 4,
 "nbformat_minor": 5
}
