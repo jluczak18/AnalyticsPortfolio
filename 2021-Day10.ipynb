{
 "cells": [
  {
   "cell_type": "markdown",
   "id": "c48312af",
   "metadata": {},
   "source": [
    "### Day 10 Problem\n",
    "\n",
    "The navigation subsystem syntax is made of several lines containing chunks. There are one or more chunks on each line, and chunks contain zero or more other chunks. Adjacent chunks are not separated by any delimiter; if one chunk stops, the next chunk (if any) can immediately start. Every chunk must open and close with one of four legal pairs of matching characters:\n",
    "\n",
    "- If a chunk opens with (, it must close with ). \n",
    "- If a chunk opens with [, it must close with ].\n",
    "- If a chunk opens with {, it must close with }.\n",
    "- If a chunk opens with <, it must close with >.\n",
    "\n",
    "So, () is a legal chunk that contains no other chunks, as is []. More complex but valid chunks include ([]), {()()()}, <([{}])>, [<>({}){}[([])<>]], and even (((((((((()))))))))).\n",
    "\n",
    "Some lines are incomplete, but others are corrupted. Find and discard the corrupted lines first.\n",
    "\n",
    "A corrupted line is one where a chunk closes with the wrong character - that is, where the characters it opens and closes with do not form one of the four legal pairs listed above.\n",
    "\n",
    "Examples of corrupted chunks include (], {()()()>, (((()))}, and <([]){()}[{}]). Such a chunk can appear anywhere within a line, and its presence causes the whole line to be considered corrupted."
   ]
  },
  {
   "cell_type": "markdown",
   "id": "895cb953",
   "metadata": {},
   "source": [
    "## Proposed Approach\n",
    "\n",
    "How I will solves this problem:\n",
    "- If a close value occurs, check how many openers of same value happen before. Number of openers must >= number of closers\n",
    "- If a close happens, find the closest opener and make sure everything inside is opened and closed\n",
    "- If everything inside is opened and closed then that is a complete chunk otherwise corrupt"
   ]
  },
  {
   "cell_type": "code",
   "execution_count": 2,
   "id": "dcb4e8a7",
   "metadata": {},
   "outputs": [],
   "source": [
    "#import libraries\n",
    "import pandas as pd\n",
    "import numpy as np\n",
    "import re\n",
    "import requests"
   ]
  },
  {
   "cell_type": "code",
   "execution_count": 229,
   "id": "258c8922",
   "metadata": {},
   "outputs": [
    {
     "data": {
      "text/html": [
       "<div>\n",
       "<style scoped>\n",
       "    .dataframe tbody tr th:only-of-type {\n",
       "        vertical-align: middle;\n",
       "    }\n",
       "\n",
       "    .dataframe tbody tr th {\n",
       "        vertical-align: top;\n",
       "    }\n",
       "\n",
       "    .dataframe thead th {\n",
       "        text-align: right;\n",
       "    }\n",
       "</style>\n",
       "<table border=\"1\" class=\"dataframe\">\n",
       "  <thead>\n",
       "    <tr style=\"text-align: right;\">\n",
       "      <th></th>\n",
       "      <th>Strings</th>\n",
       "    </tr>\n",
       "  </thead>\n",
       "  <tbody>\n",
       "    <tr>\n",
       "      <th>0</th>\n",
       "      <td>[({(&lt;(())[]&gt;[[{[]{&lt;()&lt;&gt;&gt;</td>\n",
       "    </tr>\n",
       "    <tr>\n",
       "      <th>1</th>\n",
       "      <td>[(()[&lt;&gt;])]({[&lt;{&lt;&lt;[]&gt;&gt;(</td>\n",
       "    </tr>\n",
       "    <tr>\n",
       "      <th>2</th>\n",
       "      <td>{([(&lt;{}[&lt;&gt;[]}&gt;{[]{[(&lt;()&gt;</td>\n",
       "    </tr>\n",
       "    <tr>\n",
       "      <th>3</th>\n",
       "      <td>(((({&lt;&gt;}&lt;{&lt;{&lt;&gt;}{[]{[]{}</td>\n",
       "    </tr>\n",
       "    <tr>\n",
       "      <th>4</th>\n",
       "      <td>[[&lt;[([]))&lt;([[{}[[()]]]</td>\n",
       "    </tr>\n",
       "    <tr>\n",
       "      <th>5</th>\n",
       "      <td>[{[{({}]{}}([{[{{{}}([]</td>\n",
       "    </tr>\n",
       "    <tr>\n",
       "      <th>6</th>\n",
       "      <td>{&lt;[[]]&gt;}&lt;{[{[{[]{()[[[]</td>\n",
       "    </tr>\n",
       "    <tr>\n",
       "      <th>7</th>\n",
       "      <td>[&lt;(&lt;(&lt;(&lt;{}))&gt;&lt;([]([]()</td>\n",
       "    </tr>\n",
       "    <tr>\n",
       "      <th>8</th>\n",
       "      <td>&lt;{([([[(&lt;&gt;()){}]&gt;(&lt;&lt;{{</td>\n",
       "    </tr>\n",
       "    <tr>\n",
       "      <th>9</th>\n",
       "      <td>&lt;{([{{}}[&lt;[[[&lt;&gt;{}]]]&gt;[]]</td>\n",
       "    </tr>\n",
       "  </tbody>\n",
       "</table>\n",
       "</div>"
      ],
      "text/plain": [
       "                    Strings\n",
       "0  [({(<(())[]>[[{[]{<()<>>\n",
       "1    [(()[<>])]({[<{<<[]>>(\n",
       "2  {([(<{}[<>[]}>{[]{[(<()>\n",
       "3   (((({<>}<{<{<>}{[]{[]{}\n",
       "4    [[<[([]))<([[{}[[()]]]\n",
       "5   [{[{({}]{}}([{[{{{}}([]\n",
       "6   {<[[]]>}<{[{[{[]{()[[[]\n",
       "7    [<(<(<(<{}))><([]([]()\n",
       "8    <{([([[(<>()){}]>(<<{{\n",
       "9  <{([{{}}[<[[[<>{}]]]>[]]"
      ]
     },
     "execution_count": 229,
     "metadata": {},
     "output_type": "execute_result"
    }
   ],
   "source": [
    "#loaded in the example given for testing on smaller sample size\n",
    "test = pd.read_csv('day10test.csv')\n",
    "test"
   ]
  },
  {
   "cell_type": "code",
   "execution_count": 79,
   "id": "d597461b",
   "metadata": {},
   "outputs": [
    {
     "data": {
      "text/plain": [
       "'[({(<(())[]>[[{[]{<()<>>'"
      ]
     },
     "execution_count": 79,
     "metadata": {},
     "output_type": "execute_result"
    }
   ],
   "source": [
    "test['Strings'][0]"
   ]
  },
  {
   "cell_type": "code",
   "execution_count": null,
   "id": "3487d999",
   "metadata": {},
   "outputs": [],
   "source": []
  },
  {
   "cell_type": "code",
   "execution_count": 606,
   "id": "030b4d76",
   "metadata": {},
   "outputs": [],
   "source": [
    "###Formulas###\n",
    "def point_counter(error):\n",
    "    #this formula takes in the incorrect closing value of a supposed\n",
    "    #closed chunk and assigns points based on the value\n",
    "    points = 0\n",
    "    if error == ')':\n",
    "        points += 3\n",
    "    elif error == ']':\n",
    "        points += 57\n",
    "    elif error == '}':\n",
    "        points += 1197\n",
    "    elif error == '>':\n",
    "        points += 25137\n",
    "    return points\n",
    "\n",
    "def create_close_pos_df(currentline):\n",
    "#returns a dataframe that holds the closing indicator we are looking for along with position of line it falls in\n",
    "    pattern = re.compile(r'[>)}\\]]')\n",
    "    matches = pattern.finditer(currentline)\n",
    "    count = 0\n",
    "    #need a way to get a range of how many closers we had\n",
    "    for i in matches:\n",
    "        count+=1\n",
    "    closer_df = pd.DataFrame(index = range(count), columns=['Value', 'Start Pos', 'End Pos'])\n",
    "    z=0\n",
    "    #need to recall compile and matches to be able to iterate again\n",
    "    pattern = re.compile(r'[>)}\\]]')\n",
    "    matches = pattern.finditer(currentline)\n",
    "    for match in matches:\n",
    "        closer_df['Value'][z] = match[0]\n",
    "        y = match.span()\n",
    "        start_ind = y[0]\n",
    "        closer_df['Start Pos'][z] = start_ind\n",
    "        end_ind = y[1]\n",
    "        closer_df['End Pos'][z] = end_ind\n",
    "        z+=1\n",
    "    return closer_df\n",
    "\n",
    "def runner(df):\n",
    "#Runs all code to return the total numeric value based on the number of corrupted lines in the dataset\n",
    "\n",
    "    point_list = list()\n",
    "    runner_ind = 0\n",
    "    while runner_ind < len(df):\n",
    "        #loop through each line in the input\n",
    "\n",
    "        currentline = df[runner_ind]\n",
    "        z = create_close_pos_df(currentline)\n",
    "        text = ''\n",
    "        z_index = 0\n",
    "        range_list = list(range(len(currentline)))\n",
    "        #create a list based on length which helps us handle when we have instances such as (()). We want to skip\n",
    "        #over the first close when we look at the outer paranthesis\n",
    "        while z_index < len(z): \n",
    "            #start with the first closer value in the text string. Any of these: >)]}\n",
    "            curr_close_pos = z.loc[z_index]['Start Pos']\n",
    "            curr_close_val = z.loc[z_index]['Value']\n",
    "    #         print(curr_close_pos)\n",
    "            curr_open_val = ''\n",
    "            curr_open_pos = 0\n",
    "            #Now we need to find the nearest open value for the given close. If close is ) then whats nearest (?\n",
    "            if curr_close_val == '}':\n",
    "                curr_open_val = '{'\n",
    "            elif curr_close_val == ']':\n",
    "                curr_open_val = '['\n",
    "            elif curr_close_val == '>':\n",
    "                curr_open_val = '<'\n",
    "            elif curr_close_val == ')':\n",
    "                curr_open_val = '('\n",
    "\n",
    "            b = curr_close_pos\n",
    "            while b > 0:\n",
    "                #Find index of the nearest opener\n",
    "                if (currentline[b] == curr_open_val) and (b in range_list):\n",
    "                    #needed to add 2nd argument to skip if opener already\n",
    "                    #matched to another close. Instances of (())\n",
    "                    curr_open_pos = b\n",
    "                    range_list.remove(curr_open_pos)\n",
    "                    break\n",
    "                b-=1\n",
    "        #     print(b)\n",
    "    #         print(curr_open_pos)\n",
    "            # print(curr_close_pos)\n",
    "\n",
    "            #returns a new string with just values inside close. Allows us to analyze inside the close whether items\n",
    "            #have been incorrectly opened. If there are 2 (( but only 1 ) then this is corrupt\n",
    "            newline = currentline[curr_open_pos:curr_close_pos+1]\n",
    "\n",
    "            q = curr_close_pos-1\n",
    "            while q > curr_open_pos:\n",
    "        #         print(q)\n",
    "                val = currentline[q]\n",
    "            #     print(val)\n",
    "                #gives us our pattern that we use to return counts in the current new string of openers vs closers\n",
    "                if (val == ')') or (val == '('):\n",
    "                    closer_pattern=re.compile(r'\\)')\n",
    "                    opener_pattern = re.compile(r'\\(')\n",
    "                elif (val == '>') or (val == '<'):\n",
    "                    closer_pattern = re.compile(r'\\>')\n",
    "                    opener_pattern = re.compile(r'\\<')\n",
    "                elif (val == ']') or (val == '['):\n",
    "                    closer_pattern = re.compile(r'\\]')\n",
    "                    opener_pattern = re.compile(r'\\[')\n",
    "                elif (val == '}') or (val == '{'):\n",
    "                    closer_pattern = re.compile(r'\\}')\n",
    "                    opener_pattern = re.compile(r'\\{')\n",
    "                closer_matches = closer_pattern.findall(newline)\n",
    "            #     print(closer_matches)\n",
    "                closer_count = 0\n",
    "                closer_count = len(closer_matches)\n",
    "            #     print('closer count: ', closer_count)\n",
    "            #         print('# of {} before or at current position: {}'.format(closer_val, closer_count))\n",
    "\n",
    "                #return how many openers of that closing char came before current position\n",
    "                opener_matches = opener_pattern.findall(newline)\n",
    "                opener_count = 0\n",
    "                opener_count = len(opener_matches)\n",
    "            #     print('opener count: ', opener_count)\n",
    "                if opener_count > closer_count:\n",
    "                    #if we have more openers then closers then we have a problem which we mark as corrupt\n",
    "                    #if it is corrupt we stop and break out the loop\n",
    "                    text = 'corrupt'\n",
    "                    break\n",
    "\n",
    "                q-=1\n",
    "            error = '' \n",
    "            points = 0\n",
    "            #if we have a corrupt instance we want to know what indexed value was it that caused the problem\n",
    "            #this is how we get the point value associated with that problem\n",
    "            if text == 'corrupt':\n",
    "                error = currentline[curr_close_pos]\n",
    "                point_val = point_counter(error)\n",
    "                print('point val: ', point_val)\n",
    "                point_list.append(point_val)\n",
    "                #Append to a list to make it easy to sum up all values\n",
    "                break\n",
    "            z_index +=1\n",
    "        runner_ind+=1\n",
    "\n",
    "    #sum up everything in list and return this value\n",
    "    answer = sum(point_list)\n",
    "    return answer\n",
    "\n",
    "\n"
   ]
  },
  {
   "cell_type": "code",
   "execution_count": 607,
   "id": "ee9773bb",
   "metadata": {},
   "outputs": [
    {
     "name": "stdout",
     "output_type": "stream",
     "text": [
      "point val:  1197\n",
      "point val:  3\n",
      "point val:  57\n",
      "point val:  3\n",
      "point val:  25137\n"
     ]
    },
    {
     "data": {
      "text/plain": [
       "26397"
      ]
     },
     "execution_count": 607,
     "metadata": {},
     "output_type": "execute_result"
    }
   ],
   "source": [
    "runner(test['Strings'])"
   ]
  },
  {
   "cell_type": "code",
   "execution_count": 581,
   "id": "3650be8b",
   "metadata": {},
   "outputs": [],
   "source": [
    "#26397 is expected answer, lets try on input data now"
   ]
  },
  {
   "cell_type": "code",
   "execution_count": 590,
   "id": "188938b2",
   "metadata": {},
   "outputs": [],
   "source": [
    "day10 = pd.read_csv(\"day_10.txt\", header=None)"
   ]
  },
  {
   "cell_type": "code",
   "execution_count": 604,
   "id": "64b2db96",
   "metadata": {},
   "outputs": [
    {
     "name": "stdout",
     "output_type": "stream",
     "text": [
      "point val:  57\n",
      "point val:  1197\n",
      "point val:  1197\n",
      "point val:  25137\n",
      "point val:  25137\n",
      "point val:  3\n",
      "point val:  57\n",
      "point val:  25137\n",
      "point val:  25137\n",
      "point val:  57\n",
      "point val:  3\n",
      "point val:  57\n",
      "point val:  1197\n",
      "point val:  57\n",
      "point val:  57\n",
      "point val:  57\n",
      "point val:  25137\n",
      "point val:  1197\n",
      "point val:  3\n",
      "point val:  1197\n",
      "point val:  3\n",
      "point val:  3\n",
      "point val:  57\n",
      "point val:  57\n",
      "point val:  25137\n",
      "point val:  57\n",
      "point val:  25137\n",
      "point val:  1197\n",
      "point val:  1197\n",
      "point val:  1197\n",
      "point val:  57\n",
      "point val:  25137\n",
      "point val:  25137\n",
      "point val:  1197\n",
      "point val:  3\n",
      "point val:  57\n",
      "point val:  1197\n",
      "point val:  57\n",
      "point val:  25137\n",
      "point val:  1197\n",
      "point val:  1197\n",
      "point val:  1197\n",
      "point val:  3\n",
      "point val:  25137\n",
      "point val:  57\n",
      "point val:  25137\n",
      "point val:  57\n"
     ]
    },
    {
     "data": {
      "text/plain": [
       "318081"
      ]
     },
     "execution_count": 604,
     "metadata": {},
     "output_type": "execute_result"
    }
   ],
   "source": [
    "runner(day10[0])"
   ]
  },
  {
   "cell_type": "code",
   "execution_count": 595,
   "id": "fffec33b",
   "metadata": {},
   "outputs": [],
   "source": [
    "#318,081 is the correct answer for part 1. Ready for part 2!"
   ]
  },
  {
   "cell_type": "code",
   "execution_count": null,
   "id": "53d47862",
   "metadata": {},
   "outputs": [],
   "source": []
  }
 ],
 "metadata": {
  "kernelspec": {
   "display_name": "Python 3 (ipykernel)",
   "language": "python",
   "name": "python3"
  },
  "language_info": {
   "codemirror_mode": {
    "name": "ipython",
    "version": 3
   },
   "file_extension": ".py",
   "mimetype": "text/x-python",
   "name": "python",
   "nbconvert_exporter": "python",
   "pygments_lexer": "ipython3",
   "version": "3.7.9"
  }
 },
 "nbformat": 4,
 "nbformat_minor": 5
}
