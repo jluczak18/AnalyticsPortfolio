{
 "cells": [
  {
   "cell_type": "markdown",
   "id": "f4c581ac",
   "metadata": {},
   "source": [
    "## Advent of Code\n",
    "\n",
    "Advent of Code is an Advent calendar of small programming puzzles for a variety of skill sets and skill levels that can be solved in any programming language you like. People use them as a speed contest, interview prep, company training, university coursework, practice problems, or to challenge each other.\n",
    "\n",
    "Visit: https://adventofcode.com/2021/about for more info\n",
    "\n",
    "This workbook contains my work to solve the different problems from 2021"
   ]
  },
  {
   "cell_type": "markdown",
   "id": "9f0fbb40",
   "metadata": {},
   "source": [
    "### Day 1 Pt 1\n",
    "\n",
    "How many measurements are larger than the previous measurement?"
   ]
  },
  {
   "cell_type": "code",
   "execution_count": 1,
   "id": "e3f4b6af",
   "metadata": {},
   "outputs": [],
   "source": [
    "import pandas as pd\n",
    "import numpy as np\n",
    "import random\n",
    "\n",
    "from timeit import timeit\n",
    "from itertools import repeat"
   ]
  },
  {
   "cell_type": "code",
   "execution_count": 2,
   "id": "d0da566b",
   "metadata": {},
   "outputs": [
    {
     "data": {
      "text/html": [
       "<div>\n",
       "<style scoped>\n",
       "    .dataframe tbody tr th:only-of-type {\n",
       "        vertical-align: middle;\n",
       "    }\n",
       "\n",
       "    .dataframe tbody tr th {\n",
       "        vertical-align: top;\n",
       "    }\n",
       "\n",
       "    .dataframe thead th {\n",
       "        text-align: right;\n",
       "    }\n",
       "</style>\n",
       "<table border=\"1\" class=\"dataframe\">\n",
       "  <thead>\n",
       "    <tr style=\"text-align: right;\">\n",
       "      <th></th>\n",
       "      <th>Numbers</th>\n",
       "      <th>Inc/Dec</th>\n",
       "    </tr>\n",
       "  </thead>\n",
       "  <tbody>\n",
       "    <tr>\n",
       "      <th>0</th>\n",
       "      <td>109</td>\n",
       "      <td>NaN</td>\n",
       "    </tr>\n",
       "    <tr>\n",
       "      <th>1</th>\n",
       "      <td>117</td>\n",
       "      <td>NaN</td>\n",
       "    </tr>\n",
       "    <tr>\n",
       "      <th>2</th>\n",
       "      <td>118</td>\n",
       "      <td>NaN</td>\n",
       "    </tr>\n",
       "    <tr>\n",
       "      <th>3</th>\n",
       "      <td>98</td>\n",
       "      <td>NaN</td>\n",
       "    </tr>\n",
       "    <tr>\n",
       "      <th>4</th>\n",
       "      <td>102</td>\n",
       "      <td>NaN</td>\n",
       "    </tr>\n",
       "    <tr>\n",
       "      <th>...</th>\n",
       "      <td>...</td>\n",
       "      <td>...</td>\n",
       "    </tr>\n",
       "    <tr>\n",
       "      <th>1995</th>\n",
       "      <td>6289</td>\n",
       "      <td>NaN</td>\n",
       "    </tr>\n",
       "    <tr>\n",
       "      <th>1996</th>\n",
       "      <td>6292</td>\n",
       "      <td>NaN</td>\n",
       "    </tr>\n",
       "    <tr>\n",
       "      <th>1997</th>\n",
       "      <td>6293</td>\n",
       "      <td>NaN</td>\n",
       "    </tr>\n",
       "    <tr>\n",
       "      <th>1998</th>\n",
       "      <td>6297</td>\n",
       "      <td>NaN</td>\n",
       "    </tr>\n",
       "    <tr>\n",
       "      <th>1999</th>\n",
       "      <td>6308</td>\n",
       "      <td>NaN</td>\n",
       "    </tr>\n",
       "  </tbody>\n",
       "</table>\n",
       "<p>2000 rows × 2 columns</p>\n",
       "</div>"
      ],
      "text/plain": [
       "      Numbers  Inc/Dec\n",
       "0         109      NaN\n",
       "1         117      NaN\n",
       "2         118      NaN\n",
       "3          98      NaN\n",
       "4         102      NaN\n",
       "...       ...      ...\n",
       "1995     6289      NaN\n",
       "1996     6292      NaN\n",
       "1997     6293      NaN\n",
       "1998     6297      NaN\n",
       "1999     6308      NaN\n",
       "\n",
       "[2000 rows x 2 columns]"
      ]
     },
     "execution_count": 2,
     "metadata": {},
     "output_type": "execute_result"
    }
   ],
   "source": [
    "df = pd.read_csv('AOC_list.csv')\n",
    "df"
   ]
  },
  {
   "cell_type": "code",
   "execution_count": 4,
   "id": "e4752d11",
   "metadata": {},
   "outputs": [
    {
     "name": "stderr",
     "output_type": "stream",
     "text": [
      "C:\\Users\\jlucz\\Anaconda3\\lib\\site-packages\\ipykernel_launcher.py:6: SettingWithCopyWarning: \n",
      "A value is trying to be set on a copy of a slice from a DataFrame\n",
      "\n",
      "See the caveats in the documentation: https://pandas.pydata.org/pandas-docs/stable/user_guide/indexing.html#returning-a-view-versus-a-copy\n",
      "  \n",
      "C:\\Users\\jlucz\\Anaconda3\\lib\\site-packages\\ipykernel_launcher.py:8: SettingWithCopyWarning: \n",
      "A value is trying to be set on a copy of a slice from a DataFrame\n",
      "\n",
      "See the caveats in the documentation: https://pandas.pydata.org/pandas-docs/stable/user_guide/indexing.html#returning-a-view-versus-a-copy\n",
      "  \n"
     ]
    },
    {
     "data": {
      "text/plain": [
       "Numbers    1448\n",
       "Inc/Dec    1448\n",
       "dtype: int64"
      ]
     },
     "execution_count": 4,
     "metadata": {},
     "output_type": "execute_result"
    }
   ],
   "source": [
    "#goal: count the number of times a depth measurement increases\n",
    "#from previous measurement\n",
    "\n",
    "for i in df.index[1:2000]:\n",
    "    if df['Numbers'][i-1] < df['Numbers'][i]:\n",
    "        df['Inc/Dec'][i] = 'increasing'\n",
    "    else:\n",
    "        df['Inc/Dec'][i] = 'decreasing'\n",
    "        \n",
    "#returns count of increasing\n",
    "df[df['Inc/Dec'] == 'increasing'].count()"
   ]
  },
  {
   "cell_type": "markdown",
   "id": "3a29146c",
   "metadata": {},
   "source": [
    "There are 1,448 instances of records increasing from the previous record."
   ]
  },
  {
   "cell_type": "markdown",
   "id": "778412c0",
   "metadata": {},
   "source": [
    "### Day 1 Pt 2\n",
    "\n",
    "Consider sums of a three-measurement sliding window. How many sums are larger than the previous sum?"
   ]
  },
  {
   "cell_type": "code",
   "execution_count": 5,
   "id": "594b8391",
   "metadata": {},
   "outputs": [
    {
     "name": "stderr",
     "output_type": "stream",
     "text": [
      "C:\\Users\\jlucz\\Anaconda3\\lib\\site-packages\\ipykernel_launcher.py:11: SettingWithCopyWarning: \n",
      "A value is trying to be set on a copy of a slice from a DataFrame\n",
      "\n",
      "See the caveats in the documentation: https://pandas.pydata.org/pandas-docs/stable/user_guide/indexing.html#returning-a-view-versus-a-copy\n",
      "  # This is added back by InteractiveShellApp.init_path()\n",
      "C:\\Users\\jlucz\\Anaconda3\\lib\\site-packages\\ipykernel_launcher.py:18: SettingWithCopyWarning: \n",
      "A value is trying to be set on a copy of a slice from a DataFrame\n",
      "\n",
      "See the caveats in the documentation: https://pandas.pydata.org/pandas-docs/stable/user_guide/indexing.html#returning-a-view-versus-a-copy\n",
      "C:\\Users\\jlucz\\Anaconda3\\lib\\site-packages\\ipykernel_launcher.py:16: SettingWithCopyWarning: \n",
      "A value is trying to be set on a copy of a slice from a DataFrame\n",
      "\n",
      "See the caveats in the documentation: https://pandas.pydata.org/pandas-docs/stable/user_guide/indexing.html#returning-a-view-versus-a-copy\n",
      "  app.launch_new_instance()\n"
     ]
    },
    {
     "data": {
      "text/plain": [
       "Numbers    1471\n",
       "Sum        1471\n",
       "inc/dec    1471\n",
       "dtype: int64"
      ]
     },
     "execution_count": 5,
     "metadata": {},
     "output_type": "execute_result"
    }
   ],
   "source": [
    "#answer the same question, but based off a sliding window \n",
    "#of 3 measurements\n",
    "\n",
    "df2 = pd.DataFrame(df['Numbers'])\n",
    "df2['Sum'] = np.nan\n",
    "df2['inc/dec'] = 'n/a'\n",
    "\n",
    "#create window sum values and populated in df2\n",
    "\n",
    "for i in df2.index[2:2000]:\n",
    "    df2['Sum'][i] = (df2['Numbers'][i-2] + df2['Numbers'][i-1] +df2['Numbers'][i])\n",
    "    \n",
    "    #calc if window sum inc/dec\n",
    "for i in df2.index[3:2000]:\n",
    "    if df2['Sum'][i-1] < df2['Sum'][i]:\n",
    "        df2['inc/dec'][i] = 'increasing'\n",
    "    else:\n",
    "        df2['inc/dec'][i] = 'decreasing'\n",
    "\n",
    "df2[df2['inc/dec'] == 'increasing'].count()"
   ]
  },
  {
   "cell_type": "markdown",
   "id": "a05bfba3",
   "metadata": {},
   "source": [
    "The resulting answer is 1,471 instances where the window sum of 3 numbers is increasing\n"
   ]
  },
  {
   "cell_type": "code",
   "execution_count": null,
   "id": "3b1fe8a3",
   "metadata": {},
   "outputs": [],
   "source": []
  }
 ],
 "metadata": {
  "kernelspec": {
   "display_name": "Python 3 (ipykernel)",
   "language": "python",
   "name": "python3"
  },
  "language_info": {
   "codemirror_mode": {
    "name": "ipython",
    "version": 3
   },
   "file_extension": ".py",
   "mimetype": "text/x-python",
   "name": "python",
   "nbconvert_exporter": "python",
   "pygments_lexer": "ipython3",
   "version": "3.7.9"
  }
 },
 "nbformat": 4,
 "nbformat_minor": 5
}
