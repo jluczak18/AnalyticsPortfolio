{
 "cells": [
  {
   "cell_type": "markdown",
   "id": "f8f3d811",
   "metadata": {},
   "source": [
    "# Day 13\n",
    "\n",
    "Part 1:\n",
    "\n",
    "The first section is a list of dots on the transparent paper. 0,0 represents the top-left coordinate. The first value, x, increases to the right. The second value, y, increases downward. So, the coordinate 3,0 is to the right of 0,0, and the coordinate 0,7 is below 0,0. The coordinates in this example form the following pattern, where # is a dot on the paper and . is an empty, unmarked position:\n",
    "\n",
    "Then, there is a list of fold instructions. Each instruction indicates a line on the transparent paper and wants you to fold the paper up (for horizontal y=... lines) or left (for vertical x=... lines). In this example, the first fold instruction is fold along y=7, which designates the line formed by all of the positions where y is 7 (marked here with -):\n",
    "\n"
   ]
  },
  {
   "cell_type": "code",
   "execution_count": 8,
   "id": "6f622d10",
   "metadata": {},
   "outputs": [],
   "source": [
    "import pandas as pd\n",
    "import numpy as np\n",
    "import math"
   ]
  },
  {
   "cell_type": "code",
   "execution_count": 88,
   "id": "e15d0458",
   "metadata": {},
   "outputs": [
    {
     "data": {
      "text/html": [
       "<div>\n",
       "<style scoped>\n",
       "    .dataframe tbody tr th:only-of-type {\n",
       "        vertical-align: middle;\n",
       "    }\n",
       "\n",
       "    .dataframe tbody tr th {\n",
       "        vertical-align: top;\n",
       "    }\n",
       "\n",
       "    .dataframe thead th {\n",
       "        text-align: right;\n",
       "    }\n",
       "</style>\n",
       "<table border=\"1\" class=\"dataframe\">\n",
       "  <thead>\n",
       "    <tr style=\"text-align: right;\">\n",
       "      <th></th>\n",
       "      <th>x</th>\n",
       "      <th>y</th>\n",
       "    </tr>\n",
       "  </thead>\n",
       "  <tbody>\n",
       "    <tr>\n",
       "      <th>0</th>\n",
       "      <td>6</td>\n",
       "      <td>10</td>\n",
       "    </tr>\n",
       "    <tr>\n",
       "      <th>1</th>\n",
       "      <td>0</td>\n",
       "      <td>14</td>\n",
       "    </tr>\n",
       "    <tr>\n",
       "      <th>2</th>\n",
       "      <td>9</td>\n",
       "      <td>10</td>\n",
       "    </tr>\n",
       "    <tr>\n",
       "      <th>3</th>\n",
       "      <td>0</td>\n",
       "      <td>3</td>\n",
       "    </tr>\n",
       "    <tr>\n",
       "      <th>4</th>\n",
       "      <td>10</td>\n",
       "      <td>4</td>\n",
       "    </tr>\n",
       "    <tr>\n",
       "      <th>5</th>\n",
       "      <td>4</td>\n",
       "      <td>11</td>\n",
       "    </tr>\n",
       "    <tr>\n",
       "      <th>6</th>\n",
       "      <td>6</td>\n",
       "      <td>0</td>\n",
       "    </tr>\n",
       "    <tr>\n",
       "      <th>7</th>\n",
       "      <td>6</td>\n",
       "      <td>12</td>\n",
       "    </tr>\n",
       "    <tr>\n",
       "      <th>8</th>\n",
       "      <td>4</td>\n",
       "      <td>1</td>\n",
       "    </tr>\n",
       "    <tr>\n",
       "      <th>9</th>\n",
       "      <td>0</td>\n",
       "      <td>13</td>\n",
       "    </tr>\n",
       "    <tr>\n",
       "      <th>10</th>\n",
       "      <td>10</td>\n",
       "      <td>12</td>\n",
       "    </tr>\n",
       "    <tr>\n",
       "      <th>11</th>\n",
       "      <td>3</td>\n",
       "      <td>4</td>\n",
       "    </tr>\n",
       "    <tr>\n",
       "      <th>12</th>\n",
       "      <td>3</td>\n",
       "      <td>0</td>\n",
       "    </tr>\n",
       "    <tr>\n",
       "      <th>13</th>\n",
       "      <td>8</td>\n",
       "      <td>4</td>\n",
       "    </tr>\n",
       "    <tr>\n",
       "      <th>14</th>\n",
       "      <td>1</td>\n",
       "      <td>10</td>\n",
       "    </tr>\n",
       "    <tr>\n",
       "      <th>15</th>\n",
       "      <td>2</td>\n",
       "      <td>14</td>\n",
       "    </tr>\n",
       "    <tr>\n",
       "      <th>16</th>\n",
       "      <td>8</td>\n",
       "      <td>10</td>\n",
       "    </tr>\n",
       "    <tr>\n",
       "      <th>17</th>\n",
       "      <td>9</td>\n",
       "      <td>0</td>\n",
       "    </tr>\n",
       "  </tbody>\n",
       "</table>\n",
       "</div>"
      ],
      "text/plain": [
       "     x   y\n",
       "0    6  10\n",
       "1    0  14\n",
       "2    9  10\n",
       "3    0   3\n",
       "4   10   4\n",
       "5    4  11\n",
       "6    6   0\n",
       "7    6  12\n",
       "8    4   1\n",
       "9    0  13\n",
       "10  10  12\n",
       "11   3   4\n",
       "12   3   0\n",
       "13   8   4\n",
       "14   1  10\n",
       "15   2  14\n",
       "16   8  10\n",
       "17   9   0"
      ]
     },
     "execution_count": 88,
     "metadata": {},
     "output_type": "execute_result"
    }
   ],
   "source": [
    "#read in coordinates to populate matrix\n",
    "test = pd.read_csv('day13_test.csv')\n",
    "test"
   ]
  },
  {
   "cell_type": "code",
   "execution_count": 226,
   "id": "5092a418",
   "metadata": {},
   "outputs": [],
   "source": [
    "def create_matrix(df):\n",
    "    #creates an empty matrix of zeros based on size of coordinates and then populates them with 1s based on\n",
    "    #coordinates provided\n",
    "    matrix = np.zeros((max(df['y'])+1,max(df['x'])+1))\n",
    "    for i in df.index:\n",
    "        matrix[df.loc[i]['y']][df.iloc[i]['x']] = 1\n",
    "    return matrix\n",
    "\n",
    "def horizontal_fold(num, matrx):\n",
    "    #folds along y axis\n",
    "    x=1\n",
    "    while x < num+1:\n",
    "        #adds up values when folding and applies to upper half above fold line\n",
    "        matrx[num-x] = matrx[num+x]+matrx[num-x]\n",
    "        x+=1\n",
    "    #now we need to remove everything past fold line\n",
    "    \n",
    "    #remove values below fold line after we sum up\n",
    "    matrx = matrx[0:num]\n",
    "    \n",
    "    #since we are doing a hard sum, we are resetting them all to 1\n",
    "    for i in range(len(matrx[0])):\n",
    "        for j in range(len(matrx)):\n",
    "            if matrx[j][i] > 1: \n",
    "                matrx[j][i] = 1\n",
    "            \n",
    "    return matrx\n",
    "\n",
    "def vertical_fold(num, matrx):\n",
    "    #folds along x axis\n",
    "    z=1\n",
    "    while z < (math.floor(len(matrx[0])/2)+1):\n",
    "        #sum up values on both sides of fold\n",
    "        for t in range(len(matrx)):\n",
    "            matrx[t][num-z] = matrx[t][num-z]+matrx[t][num+z]\n",
    "        z+=1\n",
    "    \n",
    "    new_matrix = list()\n",
    "    for i in range(len(matrx)):\n",
    "        new_matrix.append(matrx[i][0:num])\n",
    "\n",
    "    for i in range(len(new_matrix[0])):\n",
    "        for j in range(len(new_matrix)):\n",
    "            if new_matrix[j][i] > 1: \n",
    "                new_matrix[j][i] = 1\n",
    "    return new_matrix\n",
    "    \n",
    "def sum_up(matrx):\n",
    "    #loops through whole matrix and sums up all the values where there is a 1\n",
    "    sum_val=0\n",
    "    for i in range(len(matrx[0])):\n",
    "            for j in range(len(matrx)):\n",
    "                sum_val += matrx[j][i]\n",
    "    return sum_val"
   ]
  },
  {
   "cell_type": "code",
   "execution_count": 227,
   "id": "b75731d3",
   "metadata": {},
   "outputs": [
    {
     "data": {
      "text/plain": [
       "16.0"
      ]
     },
     "execution_count": 227,
     "metadata": {},
     "output_type": "execute_result"
    }
   ],
   "source": [
    "#with the test set we match 16 and a square in the matrix\n",
    "z = create_matrix(test)\n",
    "y = horizontal_fold(7, z)\n",
    "x = vertical_fold(5,y)\n",
    "sum_up(x)"
   ]
  },
  {
   "cell_type": "code",
   "execution_count": 34,
   "id": "70a57127",
   "metadata": {
    "scrolled": true
   },
   "outputs": [
    {
     "data": {
      "text/html": [
       "<div>\n",
       "<style scoped>\n",
       "    .dataframe tbody tr th:only-of-type {\n",
       "        vertical-align: middle;\n",
       "    }\n",
       "\n",
       "    .dataframe tbody tr th {\n",
       "        vertical-align: top;\n",
       "    }\n",
       "\n",
       "    .dataframe thead th {\n",
       "        text-align: right;\n",
       "    }\n",
       "</style>\n",
       "<table border=\"1\" class=\"dataframe\">\n",
       "  <thead>\n",
       "    <tr style=\"text-align: right;\">\n",
       "      <th></th>\n",
       "      <th>x</th>\n",
       "      <th>y</th>\n",
       "    </tr>\n",
       "  </thead>\n",
       "  <tbody>\n",
       "    <tr>\n",
       "      <th>0</th>\n",
       "      <td>92</td>\n",
       "      <td>632</td>\n",
       "    </tr>\n",
       "    <tr>\n",
       "      <th>1</th>\n",
       "      <td>795</td>\n",
       "      <td>9</td>\n",
       "    </tr>\n",
       "    <tr>\n",
       "      <th>2</th>\n",
       "      <td>1034</td>\n",
       "      <td>368</td>\n",
       "    </tr>\n",
       "    <tr>\n",
       "      <th>3</th>\n",
       "      <td>1230</td>\n",
       "      <td>233</td>\n",
       "    </tr>\n",
       "    <tr>\n",
       "      <th>4</th>\n",
       "      <td>969</td>\n",
       "      <td>816</td>\n",
       "    </tr>\n",
       "    <tr>\n",
       "      <th>...</th>\n",
       "      <td>...</td>\n",
       "      <td>...</td>\n",
       "    </tr>\n",
       "    <tr>\n",
       "      <th>923</th>\n",
       "      <td>856</td>\n",
       "      <td>518</td>\n",
       "    </tr>\n",
       "    <tr>\n",
       "      <th>924</th>\n",
       "      <td>728</td>\n",
       "      <td>257</td>\n",
       "    </tr>\n",
       "    <tr>\n",
       "      <th>925</th>\n",
       "      <td>723</td>\n",
       "      <td>325</td>\n",
       "    </tr>\n",
       "    <tr>\n",
       "      <th>926</th>\n",
       "      <td>833</td>\n",
       "      <td>773</td>\n",
       "    </tr>\n",
       "    <tr>\n",
       "      <th>927</th>\n",
       "      <td>211</td>\n",
       "      <td>415</td>\n",
       "    </tr>\n",
       "  </tbody>\n",
       "</table>\n",
       "<p>928 rows × 2 columns</p>\n",
       "</div>"
      ],
      "text/plain": [
       "        x    y\n",
       "0      92  632\n",
       "1     795    9\n",
       "2    1034  368\n",
       "3    1230  233\n",
       "4     969  816\n",
       "..    ...  ...\n",
       "923   856  518\n",
       "924   728  257\n",
       "925   723  325\n",
       "926   833  773\n",
       "927   211  415\n",
       "\n",
       "[928 rows x 2 columns]"
      ]
     },
     "execution_count": 34,
     "metadata": {},
     "output_type": "execute_result"
    }
   ],
   "source": [
    "#now that the test lines up, we are ready for our actual data\n",
    "data = pd.read_csv('day13.csv')\n",
    "data"
   ]
  },
  {
   "cell_type": "code",
   "execution_count": 228,
   "id": "487706ac",
   "metadata": {},
   "outputs": [
    {
     "data": {
      "text/plain": [
       "790.0"
      ]
     },
     "execution_count": 228,
     "metadata": {},
     "output_type": "execute_result"
    }
   ],
   "source": [
    "# fold along x=655\n",
    "\n",
    "matrx = create_matrix(data)\n",
    "pt1 = vertical_fold(655, matrx)\n",
    "sum_up(pt1)\n"
   ]
  },
  {
   "cell_type": "code",
   "execution_count": 298,
   "id": "b4df326a",
   "metadata": {},
   "outputs": [
    {
     "data": {
      "text/plain": [
       "893"
      ]
     },
     "execution_count": 298,
     "metadata": {},
     "output_type": "execute_result"
    }
   ],
   "source": [
    "len(pt1)"
   ]
  },
  {
   "cell_type": "code",
   "execution_count": 301,
   "id": "39535467",
   "metadata": {},
   "outputs": [
    {
     "data": {
      "text/plain": [
       "446"
      ]
     },
     "execution_count": 301,
     "metadata": {},
     "output_type": "execute_result"
    }
   ],
   "source": [
    "len(pt1[0:446])"
   ]
  },
  {
   "cell_type": "code",
   "execution_count": 304,
   "id": "9110be16",
   "metadata": {},
   "outputs": [
    {
     "data": {
      "text/plain": [
       "445"
      ]
     },
     "execution_count": 304,
     "metadata": {},
     "output_type": "execute_result"
    }
   ],
   "source": [
    "len(pt1[447:892])"
   ]
  },
  {
   "cell_type": "markdown",
   "id": "13265cf4",
   "metadata": {},
   "source": [
    "Answer is 790 for Part 1"
   ]
  },
  {
   "cell_type": "code",
   "execution_count": 275,
   "id": "9ac86b93",
   "metadata": {},
   "outputs": [],
   "source": [
    "#needs to be revised from test as it doesn't seem to line up to index \n",
    "#by using the max value +1\n",
    "\n",
    "def horizontal_fold(num, matrx):\n",
    "    x=1\n",
    "    num=num-1\n",
    "    while x < num+1:\n",
    "        #adds up values when folding and applies to upper half above fold line\n",
    "        matrx[num-x] = matrx[num+x]+matrx[num-x]\n",
    "        x+=1\n",
    "    \n",
    "    #now we need to remove everything past fold line\n",
    "    \n",
    "    #remove values below fold line after we sum up\n",
    "    matrx = matrx[0:num]\n",
    "        \n",
    "    #since we are doing a hard sum, we are resetting them all to 1\n",
    "    for i in range(len(matrx[0])):\n",
    "        for j in range(len(matrx)):\n",
    "            if matrx[j][i] > 1: \n",
    "                matrx[j][i] = 1\n",
    "            \n",
    "    return matrx"
   ]
  },
  {
   "cell_type": "code",
   "execution_count": 276,
   "id": "40c847ac",
   "metadata": {},
   "outputs": [],
   "source": [
    "# fold along y=447\n",
    "t= horizontal_fold(447, pt1)\n",
    "\n",
    "# fold along x=327\n",
    "q = vertical_fold(327, t)\n",
    "\n",
    "# fold along y=223\n",
    "f = horizontal_fold(223, q)\n",
    "\n",
    "# fold along x=163\n",
    "d = vertical_fold(163, f)\n",
    "\n",
    "# fold along y=111\n",
    "r = horizontal_fold(111,d)\n",
    "\n",
    "# fold along x=81\n",
    "m = vertical_fold(81,r)\n",
    "\n",
    "# fold along y=55\n",
    "p = horizontal_fold(55,m)\n",
    "\n",
    "# fold along x=40\n",
    "h = vertical_fold(40,p)\n",
    "\n",
    "# fold along y=27; looks to be something happening between n and b\n",
    "n = horizontal_fold(27,h)\n",
    "\n",
    "# fold along y=13\n",
    "b = horizontal_fold(13,n)\n",
    "\n",
    "# # fold along y=6\n",
    "v = horizontal_fold(6,b)"
   ]
  },
  {
   "cell_type": "code",
   "execution_count": 277,
   "id": "74844186",
   "metadata": {},
   "outputs": [],
   "source": [
    "revised_matrix = list()\n",
    "\n",
    "x=0\n",
    "while x < len(v):\n",
    "    revised_matrix.append(v[x].astype(int))\n",
    "    x+=1\n",
    "\n",
    "np.savetxt('test.txt', revised_matrix)\n",
    "\n",
    "#looking at final result, every 4 columns is a letter and then there is\n",
    "#a break of 0s. So looping through every 4 columns will give us our\n",
    "#code"
   ]
  },
  {
   "cell_type": "code",
   "execution_count": 284,
   "id": "39fd1f2b",
   "metadata": {},
   "outputs": [
    {
     "name": "stdout",
     "output_type": "stream",
     "text": [
      "[1 1 1 1]\n",
      "[1 1 1 1]\n",
      "[1 0 0 1]\n",
      "[1 1 1 0]\n",
      "[1 0 0 0]\n",
      "\n",
      "[1 1 1 0]\n",
      "[1 0 1 1]\n",
      "[1 0 0 1]\n",
      "[1 1 1 1]\n",
      "[1 0 0 1]\n",
      "\n",
      "[1 1 0 1]\n",
      "[1 0 0 1]\n",
      "[1 1 1 1]\n",
      "[1 0 0 1]\n",
      "[1 0 0 1]\n",
      "\n",
      "[1 1 1 1]\n",
      "[0 1 0 1]\n",
      "[1 0 1 0]\n",
      "[1 1 1 1]\n",
      "[1 0 0 0]\n",
      "\n",
      "[1 1 1 0]\n",
      "[1 0 0 1]\n",
      "[1 1 1 1]\n",
      "[1 1 1 1]\n",
      "[1 0 0 1]\n",
      "\n",
      "[1 1 1 1]\n",
      "[1 0 0 0]\n",
      "[1 1 1 0]\n",
      "[1 0 0 0]\n",
      "[1 0 0 0]\n",
      "\n",
      "[0 0 1 1]\n",
      "[0 0 0 1]\n",
      "[1 0 0 1]\n",
      "[0 1 1 1]\n",
      "[1 0 0 1]\n",
      "\n",
      "[1 1 1 0]\n",
      "[1 0 0 1]\n",
      "[1 0 0 1]\n",
      "[1 1 1 0]\n",
      "[1 0 0 1]\n",
      "\n"
     ]
    }
   ],
   "source": [
    "#this returns an 8 digit set of characters\n",
    "x=0\n",
    "y=4\n",
    "\n",
    "while y < len(revised_matrix[0]):\n",
    "    for i in range(len(revised_matrix)):\n",
    "        print(revised_matrix[i][x:y])\n",
    "    print()\n",
    "    x+=5\n",
    "    y+=5"
   ]
  },
  {
   "cell_type": "code",
   "execution_count": null,
   "id": "2d8451ff",
   "metadata": {},
   "outputs": [],
   "source": []
  }
 ],
 "metadata": {
  "kernelspec": {
   "display_name": "Python 3 (ipykernel)",
   "language": "python",
   "name": "python3"
  },
  "language_info": {
   "codemirror_mode": {
    "name": "ipython",
    "version": 3
   },
   "file_extension": ".py",
   "mimetype": "text/x-python",
   "name": "python",
   "nbconvert_exporter": "python",
   "pygments_lexer": "ipython3",
   "version": "3.7.9"
  }
 },
 "nbformat": 4,
 "nbformat_minor": 5
}
