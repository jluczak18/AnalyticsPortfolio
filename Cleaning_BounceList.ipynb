{
 "cells": [
  {
   "cell_type": "markdown",
   "metadata": {},
   "source": [
    "# WITI Email Bounce List Cleaning\n",
    "\n",
    "This code takes in bounced email addresses from a email software called SendGrid and filters out the error codes so we can understand what is a hard bounce vs soft bounce. Hard bounces mean that the email is invalid. This will help us pull which emails we will want to remove from our database."
   ]
  },
  {
   "cell_type": "code",
   "execution_count": 1,
   "metadata": {},
   "outputs": [],
   "source": [
    "#load in libraries needed\n",
    "\n",
    "import pandas as pd\n",
    "import re\n",
    "import string"
   ]
  },
  {
   "cell_type": "code",
   "execution_count": 5,
   "metadata": {},
   "outputs": [],
   "source": [
    "#Load in all the error codes for emails to be able to filter out\n",
    "#which are hard and soft bounces\n",
    "\n",
    "codes = pd.read_csv('C:\\\\Users\\\\jlucz\\\\Desktop\\\\Projects\\\\WITI Internship\\\\SendGrid_ErrorCodes.csv', encoding='latin1')\n",
    "codes.sort_values(by='Error', inplace=True)\n",
    "codes = codes['Error']"
   ]
  },
  {
   "cell_type": "code",
   "execution_count": 6,
   "metadata": {},
   "outputs": [
    {
     "data": {
      "text/plain": [
       "0     250\n",
       "1     415\n",
       "2     421\n",
       "3     429\n",
       "4     450\n",
       "5     451\n",
       "6     452\n",
       "7     500\n",
       "8     503\n",
       "9     550\n",
       "10    551\n",
       "11    552\n",
       "12    553\n",
       "13    554\n",
       "14    5xx\n",
       "Name: Error, dtype: object"
      ]
     },
     "execution_count": 6,
     "metadata": {},
     "output_type": "execute_result"
    }
   ],
   "source": [
    "#Reseting the index to make sure we are in order\n",
    "\n",
    "codes.reset_index(drop=True, inplace=True)\n",
    "codes"
   ]
  },
  {
   "cell_type": "code",
   "execution_count": 8,
   "metadata": {},
   "outputs": [
    {
     "data": {
      "text/plain": [
       "0           550 5.1.1 <ee1806@att.com>... User unknown\n",
       "1    550 5.1.1 <natalie.blake@att.com>... User unknown\n",
       "2           550 5.1.1 <bc3683@att.com>... User unknown\n",
       "3                              550 5.1.1 User Unknown \n",
       "4                              550 5.1.1 User Unknown \n",
       "Name: reason, dtype: object"
      ]
     },
     "execution_count": 8,
     "metadata": {},
     "output_type": "execute_result"
    }
   ],
   "source": [
    "#Read in the email list that contains the error message. We need to pull out\n",
    "#the error code from the reason column\n",
    "\n",
    "data = pd.read_csv('C:\\\\Users\\\\jlucz\\\\Desktop\\\\Projects\\\\WITI Internship\\\\WITI_SendGrid_BounceList.csv')\n",
    "data['reason'].head()"
   ]
  },
  {
   "cell_type": "code",
   "execution_count": 9,
   "metadata": {},
   "outputs": [
    {
     "data": {
      "text/plain": [
       "status     21\n",
       "reason      0\n",
       "email      21\n",
       "created    21\n",
       "dtype: int64"
      ]
     },
     "execution_count": 9,
     "metadata": {},
     "output_type": "execute_result"
    }
   ],
   "source": [
    "#Before iterating through each row in the reason column, we need to make \n",
    "#sure there are no null values. Checking this we see we have 21 rows with\n",
    "#null values. We need to fix this or we will have errors moving forward\n",
    "\n",
    "data[data['reason'].isna()].count()"
   ]
  },
  {
   "cell_type": "code",
   "execution_count": 10,
   "metadata": {},
   "outputs": [],
   "source": [
    "#To fix these null values, we are going to fill the nulls with a string \n",
    "#value. I chose abc for simplicity. \n",
    "\n",
    "data.fillna(value='abc', inplace=True)"
   ]
  },
  {
   "cell_type": "code",
   "execution_count": 11,
   "metadata": {},
   "outputs": [],
   "source": [
    "#After running different variations of code, I noticed that we had hyphens\n",
    "#that made it difficult to pull the error code out. Using regex, I remove\n",
    "#the hyphens and replace them with spaces. This allows us to run a loop to\n",
    "#retrieve the error codes\n",
    "\n",
    "for i in data.index:\n",
    "    oldstr = data['reason'].loc[i]\n",
    "    regex_2 = re.compile(r'[-]')\n",
    "    newstr = regex_2.sub(' ', oldstr)\n",
    "    data['reason'].loc[i] = newstr"
   ]
  },
  {
   "cell_type": "code",
   "execution_count": 12,
   "metadata": {},
   "outputs": [],
   "source": [
    "#Create a new column called code that will house the error code value\n",
    "#The loop below starts at the first row of the data dataframe. It looks to\n",
    "#find if any of the error codes listed in \"codes\" are present. If not it\n",
    "#leaves the value blank\n",
    "\n",
    "data['code'] = ''\n",
    "for i in codes:\n",
    "    for n in data.index:\n",
    "        x = data['reason'].at[n]\n",
    "        y = x.find(\" \"+i+\" \")\n",
    "        if y > -1:\n",
    "            data.at[n, 'code'] = i\n",
    "        else:\n",
    "            y= x.find(i+\" \")\n",
    "            if y > -1:\n",
    "                data.at[n, 'code'] = i\n",
    "            else:\n",
    "                y= x.find(\" \"+i)\n",
    "                if y > -1:\n",
    "                    data.at[n, 'code'] = i"
   ]
  },
  {
   "cell_type": "code",
   "execution_count": 13,
   "metadata": {},
   "outputs": [
    {
     "data": {
      "text/plain": [
       "0    550\n",
       "1    550\n",
       "2    550\n",
       "3    550\n",
       "4    550\n",
       "Name: code, dtype: object"
      ]
     },
     "execution_count": 13,
     "metadata": {},
     "output_type": "execute_result"
    }
   ],
   "source": [
    "data['code'].head()"
   ]
  },
  {
   "cell_type": "code",
   "execution_count": null,
   "metadata": {},
   "outputs": [],
   "source": [
    "#Export the data to a CSV for sharing purposes\n",
    "\n",
    "data.to_csv('Cleaned_BounceList.csv')"
   ]
  }
 ],
 "metadata": {
  "kernelspec": {
   "display_name": "Python 3",
   "language": "python",
   "name": "python3"
  },
  "language_info": {
   "codemirror_mode": {
    "name": "ipython",
    "version": 3
   },
   "file_extension": ".py",
   "mimetype": "text/x-python",
   "name": "python",
   "nbconvert_exporter": "python",
   "pygments_lexer": "ipython3",
   "version": "3.7.4"
  }
 },
 "nbformat": 4,
 "nbformat_minor": 2
}
